{
 "cells": [
  {
   "cell_type": "markdown",
   "id": "984c74ca",
   "metadata": {},
   "source": [
    "## Challenges to solve\n",
    "1. Generalization of hypercomplex multiplication\n",
    "2. Speed up the kernel matrix collation"
   ]
  },
  {
   "cell_type": "markdown",
   "id": "ca515636",
   "metadata": {},
   "source": [
    "## The breakpoint\n",
    "https://www.johndcook.com/blog/2018/07/10/cayley-dickson/\n",
    "\n",
    "1. Recursive function makes hypercomplex multiplication easy\n",
    "    1. Complex = (Real, Real)\n",
    "    2. Quaternion = (Complex, Complex)\n",
    "    3. Octonion = (Quaternion, Quaternion)\n",
    "    etc.\n",
    "    \n",
    "\n",
    "2. Standard Conjugate multplication of complex numbers are recursively applicable\n",
    "\n",
    "    z1 = a1 + j b1 = (a1, b1)\n",
    "    z2 = a2 + j b2 = (a2, b2)\n",
    "    \n",
    "    z1' = a1 - j b1 = (a1, -b1)\n",
    "    z2' = a2 - j b2 = (a2, -b2)\n",
    "    \n",
    "    z1 * z2 = (a1 a2 - b1 b2, a1 b2 + a2 b1)"
   ]
  },
  {
   "cell_type": "code",
   "execution_count": null,
   "id": "d1097fd9",
   "metadata": {},
   "outputs": [],
   "source": [
    "def conj(x):\n",
    "    xstar = -x\n",
    "    xstar[0] *= -1\n",
    "    return xstar \n",
    "\n",
    "def CayleyDickson(x, y):\n",
    "    n = len(x)\n",
    "\n",
    "    if n == 1:\n",
    "        return x*y\n",
    "\n",
    "    m = n // 2  # number of elements expected for the hypothetical splitting\n",
    "\n",
    "    a, b = x[:m], x[m:]    # hypothetical spliting to real and imaginary\n",
    "    c, d = y[:m], y[m:]    # hypothetical spliting to real and imaginary\n",
    "    z = np.zeros(n)\n",
    "    z[:m] = CayleyDickson(a, c) - CayleyDickson(conj(d), b)  # hypothetical real part\n",
    "    z[m:] = CayleyDickson(d, a) + CayleyDickson(b, conj(c))  # hypothetical imaginary part\n",
    "    return z"
   ]
  },
  {
   "cell_type": "markdown",
   "id": "1b2d95c4",
   "metadata": {},
   "source": [
    "## And the story continues\n",
    "\n",
    "- Why not use symbolic maths for the subdivisions to lower level hypercomplex\n",
    "- With this, get a matrix of components needed for an hypercomplex\n",
    "    - S = [O, O]\n",
    "        \n",
    "        = [[Q, Q], [Q, Q]]\n",
    "        \n",
    "        = [[[C, C], [C, C]],[[C, C], [C, C]] ]\n",
    "        \n",
    "        = [[[[R, R], [R, R]], [[R, R], [R, R]]],[[[R, R], [R, R]], [[R, R], [R, R]]] ]\n",
    "        \n",
    "- No panic, symbolic maths get all this covered....\n",
    "    --- comes our \"util\" function for doing all sort of operations following the breakpoint techniques but in symbolic way"
   ]
  },
  {
   "cell_type": "code",
   "execution_count": null,
   "id": "77d62b98",
   "metadata": {},
   "outputs": [],
   "source": []
  },
  {
   "cell_type": "code",
   "execution_count": 4,
   "id": "4c713e48",
   "metadata": {},
   "outputs": [],
   "source": [
    "from fast_hypercomplex.utils import get_hmat, get_comp_mat\n",
    "from fast_hypercomplex import HyperConv2d\n",
    "\n",
    "from torch import nn\n",
    "import torch"
   ]
  },
  {
   "cell_type": "code",
   "execution_count": 13,
   "id": "483fdef5",
   "metadata": {},
   "outputs": [
    {
     "data": {
      "text/plain": [
       "[['w0', '-w1', '-w2', '-w3'],\n",
       " ['w1', 'w0', '-w3', 'w2'],\n",
       " ['w2', 'w3', 'w0', '-w1'],\n",
       " ['w3', '-w2', 'w1', 'w0']]"
      ]
     },
     "execution_count": 13,
     "metadata": {},
     "output_type": "execute_result"
    }
   ],
   "source": [
    "get_hmat(4)"
   ]
  },
  {
   "cell_type": "code",
   "execution_count": 15,
   "id": "013d6872",
   "metadata": {},
   "outputs": [
    {
     "data": {
      "text/plain": [
       "array([[   0,   -1,   -2, ..., -253, -254, -255],\n",
       "       [   1,    0,   -3, ..., -252, -255,  254],\n",
       "       [   2,    3,    0, ...,  255, -252, -253],\n",
       "       ...,\n",
       "       [ 253,  252, -255, ...,    0,   -3,    2],\n",
       "       [ 254,  255,  252, ...,    3,    0,   -1],\n",
       "       [ 255, -254,  253, ...,   -2,    1,    0]])"
      ]
     },
     "execution_count": 15,
     "metadata": {},
     "output_type": "execute_result"
    }
   ],
   "source": [
    "get_comp_mat(2**8)"
   ]
  },
  {
   "cell_type": "code",
   "execution_count": 7,
   "id": "fc7b08b4",
   "metadata": {},
   "outputs": [],
   "source": [
    "conv2  = nn.Conv2d(32,64, kernel_size=3)\n",
    "hconv2 = HyperConv2d(32, 64, kernel_size=3, n_divs=4)"
   ]
  },
  {
   "cell_type": "code",
   "execution_count": 8,
   "id": "6414f125",
   "metadata": {},
   "outputs": [
    {
     "data": {
      "text/plain": [
       "torch.Size([64, 32, 3, 3])"
      ]
     },
     "execution_count": 8,
     "metadata": {},
     "output_type": "execute_result"
    }
   ],
   "source": [
    "# features : Nout Nin k k\n",
    "conv2.weight.shape"
   ]
  },
  {
   "cell_type": "code",
   "execution_count": 9,
   "id": "7426da6a",
   "metadata": {},
   "outputs": [
    {
     "data": {
      "text/plain": [
       "torch.Size([4, 16, 8, 3, 3])"
      ]
     },
     "execution_count": 9,
     "metadata": {},
     "output_type": "execute_result"
    }
   ],
   "source": [
    "# features : N_divs Nout/N_divs Nin/Ndivs k k\n",
    "hconv2.weight.shape"
   ]
  },
  {
   "cell_type": "code",
   "execution_count": null,
   "id": "37470de3",
   "metadata": {},
   "outputs": [],
   "source": []
  },
  {
   "cell_type": "markdown",
   "id": "5f6d6f73",
   "metadata": {},
   "source": [
    "## The real deal for speedup"
   ]
  },
  {
   "cell_type": "code",
   "execution_count": null,
   "id": "dc1f9314",
   "metadata": {},
   "outputs": [],
   "source": [
    "def fast_hypercomplex(weights, n_divs=4, comp_mat=None):\n",
    "    \"\"\"\n",
    "    The constructed 'hamilton' W is a modified version of the hypercomplex representation,\n",
    "    \"\"\"\n",
    "    if comp_mat is None:\n",
    "        comp_mat = get_comp_mat(n_divs) \n",
    "\n",
    "    weights_new = torch.cat([weights, -torch.flipud(weights[1:])], dim=0)\n",
    "    kernel = rearrange(weights_new[rearrange(comp_mat, 'a b -> (a b)')], '(a b) o i ... -> (a o) (b i) ...',\n",
    "                       a=comp_mat.shape[0])\n",
    "    return kernel"
   ]
  }
 ],
 "metadata": {
  "kernelspec": {
   "display_name": "ai4ex",
   "language": "python",
   "name": "ai4ex"
  },
  "language_info": {
   "codemirror_mode": {
    "name": "ipython",
    "version": 3
   },
   "file_extension": ".py",
   "mimetype": "text/x-python",
   "name": "python",
   "nbconvert_exporter": "python",
   "pygments_lexer": "ipython3",
   "version": "3.9.16"
  }
 },
 "nbformat": 4,
 "nbformat_minor": 5
}
