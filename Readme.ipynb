{
 "cells": [
  {
   "cell_type": "markdown",
   "id": "76e2ef12",
   "metadata": {},
   "source": [
    "What is included and how to use the hypercomplex layers?\n",
    "1. Implementation of known hypercomplex functions for linear and convolution layers\n",
    "    - Complex to Sedenion\n",
    "2. Implementation of flexible hypercomplex functions for not so commonly used type above 16 components\n",
    "    - All it takes is the use of n_divs to define number of components of the hypercomplex\n",
    "    "
   ]
  },
  {
   "cell_type": "code",
   "execution_count": 1,
   "id": "1123de96",
   "metadata": {},
   "outputs": [],
   "source": [
    "import torch"
   ]
  },
  {
   "cell_type": "markdown",
   "id": "9ba79cf1",
   "metadata": {},
   "source": [
    "## Linear Layers understanding"
   ]
  },
  {
   "cell_type": "code",
   "execution_count": 2,
   "id": "7a01c3e2",
   "metadata": {},
   "outputs": [],
   "source": [
    "# Let's starts with Known Functions\n",
    "from fast_hypercomplex import ComplexLinear, QuaternionLinear, OctonionLinear, SedenionLinear\n",
    "\n",
    "# and the choice of flexibilibity .... n_divs has to be defined\n",
    "from fast_hypercomplex import HyperLinear"
   ]
  },
  {
   "cell_type": "code",
   "execution_count": 3,
   "id": "276220f3",
   "metadata": {},
   "outputs": [
    {
     "name": "stdout",
     "output_type": "stream",
     "text": [
      "Complex Linear:\n",
      "16384 \n",
      "\n",
      "Quaternion Linear:\n",
      "8192 \n",
      "\n",
      "Octonion Linear:\n",
      "4096 \n",
      "\n",
      "Sedenion Linear:\n",
      "2048 \n",
      "\n"
     ]
    }
   ],
   "source": [
    "# sample imput\n",
    "x = torch.rand(32, 128)   # B, C\n",
    "\n",
    "# complex usage\n",
    "layer = ComplexLinear(in_features=128, out_features=256, bias=False) # with other regular options in nn.Linear\n",
    "y = layer(x)\n",
    "print('Complex Linear:')\n",
    "print(sum(p.numel() for p in layer.parameters() if p.requires_grad), '\\n')\n",
    "\n",
    "\n",
    "# quaternion usage\n",
    "layer = QuaternionLinear(in_features=128, out_features=256, bias=False) # with other regular options in nn.Linear\n",
    "y = layer(x)\n",
    "print('Quaternion Linear:')\n",
    "print(sum(p.numel() for p in layer.parameters() if p.requires_grad), '\\n')\n",
    "\n",
    "\n",
    "# octonion usage\n",
    "layer = OctonionLinear(in_features=128, out_features=256, bias=False) # with other regular options in nn.Linear\n",
    "y = layer(x)\n",
    "print('Octonion Linear:')\n",
    "print(sum(p.numel() for p in layer.parameters() if p.requires_grad), '\\n')\n",
    "\n",
    "\n",
    "# sedenion usage\n",
    "layer = SedenionLinear(in_features=128, out_features=256, bias=False) # with other regular options in nn.Linear\n",
    "y = layer(x)\n",
    "print('Sedenion Linear:')\n",
    "print(sum(p.numel() for p in layer.parameters() if p.requires_grad), '\\n')"
   ]
  },
  {
   "cell_type": "code",
   "execution_count": 4,
   "id": "31b007ac",
   "metadata": {},
   "outputs": [
    {
     "name": "stdout",
     "output_type": "stream",
     "text": [
      "Complex Linear:\n",
      "16384 \n",
      "\n",
      "Quaternion Linear:\n",
      "8192 \n",
      "\n",
      "Octonion Linear:\n",
      "4096 \n",
      "\n",
      "Sedenion Linear:\n",
      "2048 \n",
      "\n"
     ]
    }
   ],
   "source": [
    "# and now to use the flexible layer\n",
    "\n",
    "n_divs_dict = {2: 'Complex', 4: 'Quaternion', 8: 'Octonion', 16: 'Sedenion'}\n",
    "\n",
    "for n_divs, name in n_divs_dict.items():\n",
    "    layer = HyperLinear(in_features=128, out_features=256, bias=False, n_divs=n_divs) # note the use of n_divs here\n",
    "    y = layer(x)\n",
    "    print(f'{name} Linear:')\n",
    "    print(sum(p.numel() for p in layer.parameters() if p.requires_grad), '\\n')"
   ]
  },
  {
   "cell_type": "code",
   "execution_count": 5,
   "id": "26ed8620",
   "metadata": {},
   "outputs": [
    {
     "name": "stdout",
     "output_type": "stream",
     "text": [
      "64 division Hypercomplex Linear layer:\n",
      "512 \n",
      "\n"
     ]
    }
   ],
   "source": [
    "# let's move on to a regular random choice of n_divs\n",
    "\n",
    "n_divs = 64\n",
    "layer = HyperLinear(in_features=128, out_features=256, bias=False, n_divs=n_divs) # note the use of n_divs here\n",
    "y = layer(x)\n",
    "\n",
    "print(f'{n_divs} division Hypercomplex Linear layer:')\n",
    "print(sum(p.numel() for p in layer.parameters() if p.requires_grad), '\\n')"
   ]
  },
  {
   "cell_type": "markdown",
   "id": "e2d110f9",
   "metadata": {},
   "source": [
    "## Convolution Layers Understanding"
   ]
  },
  {
   "cell_type": "code",
   "execution_count": 6,
   "id": "eaa13152",
   "metadata": {},
   "outputs": [],
   "source": [
    "# Let's starts with Known Functions\n",
    "from fast_hypercomplex import ComplexConv1d, QuaternionConv1d, OctonionConv1d, SedenionConv1d  # 1d convolution\n",
    "from fast_hypercomplex import ComplexConv2d, QuaternionConv2d, OctonionConv2d, SedenionConv2d  # 2d convolution\n",
    "from fast_hypercomplex import ComplexConv3d, QuaternionConv3d, OctonionConv3d, SedenionConv3d  # 3d convolution\n",
    "\n",
    "# and the choice of flexibilibity .... n_divs has to be defined\n",
    "from fast_hypercomplex import HyperConv1d, HyperConv2d, HyperConv3d"
   ]
  },
  {
   "cell_type": "code",
   "execution_count": 7,
   "id": "ecb7db4a",
   "metadata": {},
   "outputs": [
    {
     "name": "stdout",
     "output_type": "stream",
     "text": [
      "Complex Conv2d:\n",
      "147456 \n",
      "\n",
      "Quaternion Conv2d:\n",
      "73728 \n",
      "\n",
      "Octonion Conv2d:\n",
      "36864 \n",
      "\n",
      "Sedenion Conv2d:\n",
      "18432 \n",
      "\n"
     ]
    }
   ],
   "source": [
    "# sample imput\n",
    "x = torch.rand(32, 128, 64, 64)   # B, C, H, W\n",
    "\n",
    "# complex usage\n",
    "layer = ComplexConv2d(in_channels=128, out_channels=256, kernel_size=3, padding=1, bias=False) # with other regular options in nn.Conv2d\n",
    "y = layer(x)\n",
    "print('Complex Conv2d:')\n",
    "print(sum(p.numel() for p in layer.parameters() if p.requires_grad), '\\n')\n",
    "\n",
    "\n",
    "# quaternion usage\n",
    "layer = QuaternionConv2d(in_channels=128, out_channels=256, kernel_size=3, padding=1, bias=False) # with other regular options in nn.Conv2d\n",
    "y = layer(x)\n",
    "print('Quaternion Conv2d:')\n",
    "print(sum(p.numel() for p in layer.parameters() if p.requires_grad), '\\n')\n",
    "\n",
    "\n",
    "# octonion usage\n",
    "layer = OctonionConv2d(in_channels=128, out_channels=256, kernel_size=3, padding=1, bias=False) # with other regular options in nn.Conv2d\n",
    "y = layer(x)\n",
    "print('Octonion Conv2d:')\n",
    "print(sum(p.numel() for p in layer.parameters() if p.requires_grad), '\\n')\n",
    "\n",
    "\n",
    "# sedenion usage\n",
    "layer = SedenionConv2d(in_channels=128, out_channels=256, kernel_size=3, padding=1, bias=False) # with other regular options in nn.Conv2d\n",
    "y = layer(x)\n",
    "print('Sedenion Conv2d:')\n",
    "print(sum(p.numel() for p in layer.parameters() if p.requires_grad), '\\n')"
   ]
  },
  {
   "cell_type": "code",
   "execution_count": 8,
   "id": "624da665",
   "metadata": {},
   "outputs": [
    {
     "name": "stdout",
     "output_type": "stream",
     "text": [
      "Complex Conv2d:\n",
      "147456 \n",
      "\n",
      "Quaternion Conv2d:\n",
      "73728 \n",
      "\n",
      "Octonion Conv2d:\n",
      "36864 \n",
      "\n",
      "Sedenion Conv2d:\n",
      "18432 \n",
      "\n"
     ]
    }
   ],
   "source": [
    "# and now to use the flexible layer\n",
    "\n",
    "n_divs_dict = {2: 'Complex', 4: 'Quaternion', 8: 'Octonion', 16: 'Sedenion'}\n",
    "\n",
    "for n_divs, name in n_divs_dict.items():\n",
    "    layer = HyperConv2d(in_channels=128, out_channels=256, kernel_size=3, padding=1, bias=False, n_divs=n_divs) # note the use of n_divs here\n",
    "    y = layer(x)\n",
    "    print(f'{name} Conv2d:')\n",
    "    print(sum(p.numel() for p in layer.parameters() if p.requires_grad), '\\n')"
   ]
  },
  {
   "cell_type": "markdown",
   "id": "956cf18f",
   "metadata": {},
   "source": [
    "## And then to full implementation of UNet with ResNet backbone"
   ]
  },
  {
   "cell_type": "markdown",
   "id": "12577615",
   "metadata": {},
   "source": [
    "### let's see what we got with resnet classification with 10 classes"
   ]
  },
  {
   "cell_type": "code",
   "execution_count": 9,
   "id": "ffc08555",
   "metadata": {},
   "outputs": [],
   "source": [
    "#let's see what we got with resnet classification with 10 classes\n",
    "from resnet import resnet20, resnet32, resnet44 #... "
   ]
  },
  {
   "cell_type": "code",
   "execution_count": 10,
   "id": "9b35710d",
   "metadata": {},
   "outputs": [
    {
     "name": "stdout",
     "output_type": "stream",
     "text": [
      "Real based Resnet32\n",
      "464154 \n",
      "\n",
      "Complex based Resnet32\n",
      "233784 \n",
      "\n",
      "Quaternion based Resnet32\n",
      "118698 \n",
      "\n",
      "Octonion based Resnet32\n",
      "61542 \n",
      "\n",
      "Sedenion based Resnet32\n",
      "34494 \n",
      "\n"
     ]
    }
   ],
   "source": [
    "# sample imput\n",
    "x = torch.rand(32, 3, 64, 64)   # B, C, H, W\n",
    "\n",
    "n_divs_dict = {1: 'Real', 2: 'Complex', 4: 'Quaternion', 8: 'Octonion', 16: 'Sedenion'}\n",
    "\n",
    "for n_divs, name in n_divs_dict.items():\n",
    "    net = resnet32(n_divs=n_divs) # note the use of n_divs here\n",
    "    y = net(x)\n",
    "    print(f'{name} based Resnet32')\n",
    "    print(sum(p.numel() for p in net.parameters() if p.requires_grad), '\\n')"
   ]
  },
  {
   "cell_type": "markdown",
   "id": "4d04e307",
   "metadata": {},
   "source": [
    "### let's see what we got with UNet segmentation"
   ]
  },
  {
   "cell_type": "code",
   "execution_count": 11,
   "id": "b1a55329",
   "metadata": {},
   "outputs": [],
   "source": [
    "from resnet import HyperUnet  # here, we simplify with use of n_divs"
   ]
  },
  {
   "cell_type": "code",
   "execution_count": 14,
   "id": "5f58f180",
   "metadata": {},
   "outputs": [
    {
     "name": "stdout",
     "output_type": "stream",
     "text": [
      "Real Hypercomplex UNet: torch.Size([32, 1, 64, 64])\n",
      "2569792 \n",
      "\n",
      "Complex Hypercomplex UNet: torch.Size([32, 1, 64, 64])\n",
      "1288012 \n",
      "\n",
      "Quaternion Hypercomplex UNet: torch.Size([32, 1, 64, 64])\n",
      "646956 \n",
      "\n",
      "Octonion Hypercomplex UNet: torch.Size([32, 1, 64, 64])\n",
      "326648 \n",
      "\n",
      "Sedenion Hypercomplex UNet: torch.Size([32, 1, 64, 64])\n",
      "166704 \n",
      "\n"
     ]
    }
   ],
   "source": [
    "# sample imput\n",
    "x = torch.rand(32, 3, 64, 64)   # B, C, H, W\n",
    "\n",
    "n_divs_dict = {1: 'Real', 2: 'Complex', 4: 'Quaternion', 8: 'Octonion', 16: 'Sedenion'}\n",
    "\n",
    "for n_divs, name in n_divs_dict.items():\n",
    "    net = HyperUnet(\n",
    "        num_blocks=[4,4,4], \n",
    "        in_channels=3, \n",
    "        in_planes=32, \n",
    "        num_classes=1,  # just a possible number of segmentation channels\n",
    "        n_divs=n_divs,\n",
    "    ) # note the use of n_divs here\n",
    "    y = net(x)\n",
    "    print(f'{name} Hypercomplex UNet:', y.shape)\n",
    "    print(sum(p.numel() for p in net.parameters() if p.requires_grad), '\\n')"
   ]
  },
  {
   "cell_type": "code",
   "execution_count": null,
   "id": "d792f680",
   "metadata": {},
   "outputs": [],
   "source": []
  }
 ],
 "metadata": {
  "kernelspec": {
   "display_name": "ai4ex",
   "language": "python",
   "name": "ai4ex"
  },
  "language_info": {
   "codemirror_mode": {
    "name": "ipython",
    "version": 3
   },
   "file_extension": ".py",
   "mimetype": "text/x-python",
   "name": "python",
   "nbconvert_exporter": "python",
   "pygments_lexer": "ipython3",
   "version": "3.9.16"
  }
 },
 "nbformat": 4,
 "nbformat_minor": 5
}
